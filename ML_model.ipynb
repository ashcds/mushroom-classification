{
 "cells": [
  {
   "cell_type": "markdown",
   "id": "b8b51187",
   "metadata": {},
   "source": [
    "### 1. Data Import and EDA"
   ]
  },
  {
   "cell_type": "code",
   "execution_count": null,
   "id": "dfe9de2a",
   "metadata": {},
   "outputs": [],
   "source": [
    "# Install the required packages\n",
    "import pandas as pd \n",
    "import numpy as np\n",
    "import matplotlib.pyplot as plt\n",
    "import seaborn as sns"
   ]
  },
  {
   "cell_type": "code",
   "execution_count": null,
   "id": "9b889135",
   "metadata": {},
   "outputs": [],
   "source": [
    "# Install the ucimlrepo package to access UCI Machine Learning datasets\n",
    "pip install ucimlrepo"
   ]
  },
  {
   "cell_type": "code",
   "execution_count": null,
   "id": "381c2e3c",
   "metadata": {},
   "outputs": [
    {
     "data": {
      "text/html": [
       "<div>\n",
       "<style scoped>\n",
       "    .dataframe tbody tr th:only-of-type {\n",
       "        vertical-align: middle;\n",
       "    }\n",
       "\n",
       "    .dataframe tbody tr th {\n",
       "        vertical-align: top;\n",
       "    }\n",
       "\n",
       "    .dataframe thead th {\n",
       "        text-align: right;\n",
       "    }\n",
       "</style>\n",
       "<table border=\"1\" class=\"dataframe\">\n",
       "  <thead>\n",
       "    <tr style=\"text-align: right;\">\n",
       "      <th></th>\n",
       "      <th>cap-shape</th>\n",
       "      <th>cap-surface</th>\n",
       "      <th>cap-color</th>\n",
       "      <th>bruises</th>\n",
       "      <th>odor</th>\n",
       "      <th>gill-attachment</th>\n",
       "      <th>gill-spacing</th>\n",
       "      <th>gill-size</th>\n",
       "      <th>gill-color</th>\n",
       "      <th>stalk-shape</th>\n",
       "      <th>...</th>\n",
       "      <th>stalk-surface-below-ring</th>\n",
       "      <th>stalk-color-above-ring</th>\n",
       "      <th>stalk-color-below-ring</th>\n",
       "      <th>veil-type</th>\n",
       "      <th>veil-color</th>\n",
       "      <th>ring-number</th>\n",
       "      <th>ring-type</th>\n",
       "      <th>spore-print-color</th>\n",
       "      <th>population</th>\n",
       "      <th>habitat</th>\n",
       "    </tr>\n",
       "  </thead>\n",
       "  <tbody>\n",
       "    <tr>\n",
       "      <th>0</th>\n",
       "      <td>x</td>\n",
       "      <td>s</td>\n",
       "      <td>n</td>\n",
       "      <td>t</td>\n",
       "      <td>p</td>\n",
       "      <td>f</td>\n",
       "      <td>c</td>\n",
       "      <td>n</td>\n",
       "      <td>k</td>\n",
       "      <td>e</td>\n",
       "      <td>...</td>\n",
       "      <td>s</td>\n",
       "      <td>w</td>\n",
       "      <td>w</td>\n",
       "      <td>p</td>\n",
       "      <td>w</td>\n",
       "      <td>o</td>\n",
       "      <td>p</td>\n",
       "      <td>k</td>\n",
       "      <td>s</td>\n",
       "      <td>u</td>\n",
       "    </tr>\n",
       "    <tr>\n",
       "      <th>1</th>\n",
       "      <td>x</td>\n",
       "      <td>s</td>\n",
       "      <td>y</td>\n",
       "      <td>t</td>\n",
       "      <td>a</td>\n",
       "      <td>f</td>\n",
       "      <td>c</td>\n",
       "      <td>b</td>\n",
       "      <td>k</td>\n",
       "      <td>e</td>\n",
       "      <td>...</td>\n",
       "      <td>s</td>\n",
       "      <td>w</td>\n",
       "      <td>w</td>\n",
       "      <td>p</td>\n",
       "      <td>w</td>\n",
       "      <td>o</td>\n",
       "      <td>p</td>\n",
       "      <td>n</td>\n",
       "      <td>n</td>\n",
       "      <td>g</td>\n",
       "    </tr>\n",
       "    <tr>\n",
       "      <th>2</th>\n",
       "      <td>b</td>\n",
       "      <td>s</td>\n",
       "      <td>w</td>\n",
       "      <td>t</td>\n",
       "      <td>l</td>\n",
       "      <td>f</td>\n",
       "      <td>c</td>\n",
       "      <td>b</td>\n",
       "      <td>n</td>\n",
       "      <td>e</td>\n",
       "      <td>...</td>\n",
       "      <td>s</td>\n",
       "      <td>w</td>\n",
       "      <td>w</td>\n",
       "      <td>p</td>\n",
       "      <td>w</td>\n",
       "      <td>o</td>\n",
       "      <td>p</td>\n",
       "      <td>n</td>\n",
       "      <td>n</td>\n",
       "      <td>m</td>\n",
       "    </tr>\n",
       "    <tr>\n",
       "      <th>3</th>\n",
       "      <td>x</td>\n",
       "      <td>y</td>\n",
       "      <td>w</td>\n",
       "      <td>t</td>\n",
       "      <td>p</td>\n",
       "      <td>f</td>\n",
       "      <td>c</td>\n",
       "      <td>n</td>\n",
       "      <td>n</td>\n",
       "      <td>e</td>\n",
       "      <td>...</td>\n",
       "      <td>s</td>\n",
       "      <td>w</td>\n",
       "      <td>w</td>\n",
       "      <td>p</td>\n",
       "      <td>w</td>\n",
       "      <td>o</td>\n",
       "      <td>p</td>\n",
       "      <td>k</td>\n",
       "      <td>s</td>\n",
       "      <td>u</td>\n",
       "    </tr>\n",
       "    <tr>\n",
       "      <th>4</th>\n",
       "      <td>x</td>\n",
       "      <td>s</td>\n",
       "      <td>g</td>\n",
       "      <td>f</td>\n",
       "      <td>n</td>\n",
       "      <td>f</td>\n",
       "      <td>w</td>\n",
       "      <td>b</td>\n",
       "      <td>k</td>\n",
       "      <td>t</td>\n",
       "      <td>...</td>\n",
       "      <td>s</td>\n",
       "      <td>w</td>\n",
       "      <td>w</td>\n",
       "      <td>p</td>\n",
       "      <td>w</td>\n",
       "      <td>o</td>\n",
       "      <td>e</td>\n",
       "      <td>n</td>\n",
       "      <td>a</td>\n",
       "      <td>g</td>\n",
       "    </tr>\n",
       "  </tbody>\n",
       "</table>\n",
       "<p>5 rows × 22 columns</p>\n",
       "</div>"
      ],
      "text/plain": [
       "  cap-shape cap-surface cap-color bruises odor gill-attachment gill-spacing  \\\n",
       "0         x           s         n       t    p               f            c   \n",
       "1         x           s         y       t    a               f            c   \n",
       "2         b           s         w       t    l               f            c   \n",
       "3         x           y         w       t    p               f            c   \n",
       "4         x           s         g       f    n               f            w   \n",
       "\n",
       "  gill-size gill-color stalk-shape  ... stalk-surface-below-ring  \\\n",
       "0         n          k           e  ...                        s   \n",
       "1         b          k           e  ...                        s   \n",
       "2         b          n           e  ...                        s   \n",
       "3         n          n           e  ...                        s   \n",
       "4         b          k           t  ...                        s   \n",
       "\n",
       "  stalk-color-above-ring stalk-color-below-ring veil-type veil-color  \\\n",
       "0                      w                      w         p          w   \n",
       "1                      w                      w         p          w   \n",
       "2                      w                      w         p          w   \n",
       "3                      w                      w         p          w   \n",
       "4                      w                      w         p          w   \n",
       "\n",
       "  ring-number ring-type spore-print-color population habitat  \n",
       "0           o         p                 k          s       u  \n",
       "1           o         p                 n          n       g  \n",
       "2           o         p                 n          n       m  \n",
       "3           o         p                 k          s       u  \n",
       "4           o         e                 n          a       g  \n",
       "\n",
       "[5 rows x 22 columns]"
      ]
     },
     "execution_count": 4,
     "metadata": {},
     "output_type": "execute_result"
    }
   ],
   "source": [
    "# Import the fetch_ucirepo function from the ucimlrepo package\n",
    "from ucimlrepo import fetch_ucirepo \n",
    "  \n",
    "# fetch dataset \n",
    "mushroom = fetch_ucirepo(id=73) \n",
    "  \n",
    "# data (as pandas dataframes) \n",
    "mush_features = mushroom.data.features \n",
    "mush_class = mushroom.data.targets \n",
    "\n",
    "mush_features.head()\n",
    "  \n",
    "# # metadata \n",
    "# print(mushroom.metadata) \n",
    "  \n",
    "# # variable information \n",
    "# print(mushroom.variables) \n"
   ]
  },
  {
   "cell_type": "code",
   "execution_count": null,
   "id": "1c0d5c62",
   "metadata": {},
   "outputs": [
    {
     "data": {
      "text/plain": [
       "stalk-root\n",
       "b    3776\n",
       "e    1120\n",
       "c     556\n",
       "r     192\n",
       "Name: count, dtype: int64"
      ]
     },
     "execution_count": 15,
     "metadata": {},
     "output_type": "execute_result"
    }
   ],
   "source": [
    "mush_features.shape, mush_class.shape\n",
    "\n",
    "mush_features.isnull().sum()\n",
    "\n",
    "mush_features['stalk-root'].isnull().sum()\n",
    "\n",
    "# Check the distribution of the 'stalk-root' feature\n",
    "mush_features['stalk-root'].value_counts()\n"
   ]
  },
  {
   "cell_type": "code",
   "execution_count": null,
   "id": "8c4d99c9",
   "metadata": {},
   "outputs": [
    {
     "name": "stderr",
     "output_type": "stream",
     "text": [
      "C:\\Users\\aishw\\AppData\\Local\\Temp\\ipykernel_26228\\1664562484.py:2: SettingWithCopyWarning: \n",
      "A value is trying to be set on a copy of a slice from a DataFrame\n",
      "\n",
      "See the caveats in the documentation: https://pandas.pydata.org/pandas-docs/stable/user_guide/indexing.html#returning-a-view-versus-a-copy\n",
      "  mush_features['stalk-root'].fillna(mush_features['stalk-root'].mode()[0], inplace=True)\n"
     ]
    }
   ],
   "source": [
    "# Impute missing values in 'stalk-root' with the mode of the column\n",
    "mush_features['stalk-root'].fillna(mush_features['stalk-root'].mode()[0], inplace=True)\n",
    "\n",
    "# Verify that there are no more missing values\n",
    "mush_features['stalk-root'].isnull().sum()"
   ]
  },
  {
   "cell_type": "markdown",
   "id": "cf05a420",
   "metadata": {},
   "source": [
    "### 2. Pre-process Data for Model "
   ]
  },
  {
   "cell_type": "code",
   "execution_count": null,
   "id": "3e21ae6a",
   "metadata": {},
   "outputs": [
    {
     "data": {
      "text/plain": [
       "((6499,), (1625,))"
      ]
     },
     "execution_count": 33,
     "metadata": {},
     "output_type": "execute_result"
    }
   ],
   "source": [
    "# split the dataset into training and testing sets - 80% training and 20% testing, no stratification as e to p ratio is almost equal\n",
    "from sklearn.model_selection import train_test_split\n",
    "\n",
    "X_train, X_test, y_train, y_test = train_test_split(mush_features, mush_class, test_size=0.2, random_state=42)\n",
    "\n",
    "y_train = y_train['poisonous'].values\n",
    "y_test = y_test['poisonous'].values\n",
    "y_train.shape, y_test.shape "
   ]
  },
  {
   "cell_type": "code",
   "execution_count": 25,
   "id": "73bccc02",
   "metadata": {},
   "outputs": [
    {
     "data": {
      "text/plain": [
       "((6499, 94), (1625, 94))"
      ]
     },
     "execution_count": 25,
     "metadata": {},
     "output_type": "execute_result"
    }
   ],
   "source": [
    "# One hot encode the categorical features\n",
    "from sklearn.preprocessing import OneHotEncoder\n",
    "\n",
    "# Instantiate the OneHotEncoder\n",
    "one_hot = OneHotEncoder(drop = 'first', sparse_output=False)\n",
    "\n",
    "# Fit and transform the training data\n",
    "X_train_encoded = one_hot.fit_transform(X_train)\n",
    "\n",
    "# Convert the encoded data back to a DataFrame for better readability and add feature names\n",
    "X_train_encoded = pd.DataFrame(X_train_encoded, columns=one_hot.get_feature_names_out())\n",
    "\n",
    "# Tranform the test data\n",
    "X_test_encoded = one_hot.transform(X_test)\n",
    "\n",
    "# Convert the encoded test data back to a DataFrame for better readability and add feature names\n",
    "X_test_encoded = pd.DataFrame(X_test_encoded, columns=one_hot.get_feature_names_out())\n",
    "\n",
    "X_train_encoded.shape, X_test_encoded.shape\n"
   ]
  },
  {
   "cell_type": "code",
   "execution_count": 34,
   "id": "21a67093",
   "metadata": {},
   "outputs": [
    {
     "data": {
      "text/plain": [
       "array(['e', 'p'], dtype=object)"
      ]
     },
     "execution_count": 34,
     "metadata": {},
     "output_type": "execute_result"
    }
   ],
   "source": [
    "# Label encode the target variable \n",
    "from sklearn.preprocessing import LabelEncoder\n",
    "\n",
    "# Instantiate the LabelEncoder \n",
    "lab_encoder = LabelEncoder()\n",
    "\n",
    "# Fit and transform the training target variable\n",
    "y_train_encoded = lab_encoder.fit_transform(y_train)\n",
    "\n",
    "# Transform the test target variable\n",
    "y_test_encoded = lab_encoder.transform(y_test)\n",
    "\n",
    "lab_encoder.classes_"
   ]
  },
  {
   "cell_type": "markdown",
   "id": "d13944cc",
   "metadata": {},
   "source": [
    "### 3. Create and Train Netural Network Model"
   ]
  },
  {
   "cell_type": "code",
   "execution_count": 35,
   "id": "d89bc2a1",
   "metadata": {},
   "outputs": [
    {
     "name": "stdout",
     "output_type": "stream",
     "text": [
      "Model: \"sequential\"\n",
      "_________________________________________________________________\n",
      " Layer (type)                Output Shape              Param #   \n",
      "=================================================================\n",
      " dense (Dense)               (None, 64)                6080      \n",
      "                                                                 \n",
      " dense_1 (Dense)             (None, 1)                 65        \n",
      "                                                                 \n",
      "=================================================================\n",
      "Total params: 6,145\n",
      "Trainable params: 6,145\n",
      "Non-trainable params: 0\n",
      "_________________________________________________________________\n"
     ]
    }
   ],
   "source": [
    "## NN with 2 layers \n",
    "\n",
    "import tensorflow as tf\n",
    "from tensorflow.keras.models import Sequential\n",
    "from tensorflow.keras.layers import Dense\n",
    "\n",
    "# Instantiate the Sequential model\n",
    "model = Sequential()\n",
    "\n",
    "# Add the first hidden layer with 64 neurons and ReLU activation\n",
    "model.add(Dense(64, activation = 'relu', input_dim = X_train_encoded.shape[1]))\n",
    "\n",
    "# Add output layer with 1 neuron and sigmoid activation for binary classification\n",
    "model.add(Dense(1, activation = 'sigmoid'))\n",
    "\n",
    "# Compile model and show the summary\n",
    "model.compile(optimizer = 'adam', loss = 'binary_crossentropy', metrics = ['accuracy'])\n",
    "model.summary()\n"
   ]
  },
  {
   "cell_type": "code",
   "execution_count": 39,
   "id": "0f0b89dc",
   "metadata": {},
   "outputs": [
    {
     "name": "stdout",
     "output_type": "stream",
     "text": [
      "Epoch 1/10\n",
      "52/52 [==============================] - 0s 3ms/step - loss: 0.0049 - accuracy: 0.9998 - val_loss: 0.0060 - val_accuracy: 0.9985\n",
      "Epoch 2/10\n",
      "52/52 [==============================] - 0s 2ms/step - loss: 0.0040 - accuracy: 0.9998 - val_loss: 0.0051 - val_accuracy: 0.9985\n",
      "Epoch 3/10\n",
      "52/52 [==============================] - 0s 2ms/step - loss: 0.0033 - accuracy: 0.9998 - val_loss: 0.0043 - val_accuracy: 0.9985\n",
      "Epoch 4/10\n",
      "52/52 [==============================] - 0s 2ms/step - loss: 0.0029 - accuracy: 0.9998 - val_loss: 0.0037 - val_accuracy: 0.9992\n",
      "Epoch 5/10\n",
      "52/52 [==============================] - 0s 3ms/step - loss: 0.0024 - accuracy: 1.0000 - val_loss: 0.0033 - val_accuracy: 0.9992\n",
      "Epoch 6/10\n",
      "52/52 [==============================] - 0s 2ms/step - loss: 0.0021 - accuracy: 1.0000 - val_loss: 0.0030 - val_accuracy: 0.9992\n",
      "Epoch 7/10\n",
      "52/52 [==============================] - 0s 2ms/step - loss: 0.0018 - accuracy: 1.0000 - val_loss: 0.0026 - val_accuracy: 1.0000\n",
      "Epoch 8/10\n",
      "52/52 [==============================] - 0s 2ms/step - loss: 0.0016 - accuracy: 1.0000 - val_loss: 0.0024 - val_accuracy: 1.0000\n",
      "Epoch 9/10\n",
      "52/52 [==============================] - 0s 2ms/step - loss: 0.0014 - accuracy: 1.0000 - val_loss: 0.0021 - val_accuracy: 1.0000\n",
      "Epoch 10/10\n",
      "52/52 [==============================] - 0s 2ms/step - loss: 0.0013 - accuracy: 1.0000 - val_loss: 0.0019 - val_accuracy: 1.0000\n"
     ]
    }
   ],
   "source": [
    "# Train the model \n",
    "hist = model.fit(X_train_encoded, y_train_encoded, epochs = 10, batch_size=100, validation_split=0.2)"
   ]
  },
  {
   "cell_type": "markdown",
   "id": "1e07b0ff",
   "metadata": {},
   "source": [
    "### Neural Network Model Results "
   ]
  },
  {
   "cell_type": "code",
   "execution_count": 41,
   "id": "568fe554",
   "metadata": {},
   "outputs": [
    {
     "data": {
      "image/png": "[encoded data removed]",
      "text/plain": [
       "<Figure size 640x480 with 1 Axes>"
      ]
     },
     "metadata": {},
     "output_type": "display_data"
    }
   ],
   "source": [
    "# Plot the training and validation accuracy and loss \n",
    "\n",
    "import matplotlib.pyplot as plt \n",
    "import seaborn as sns \n",
    "\n",
    "acc = hist.history['accuracy']\n",
    "val = hist.history['val_accuracy']\n",
    "epochs = range(1, len(acc)+1)\n",
    "\n",
    "plt.plot(epochs, acc, '-', label = 'Training Accuracy')\n",
    "plt.plot(epochs, acc, ':', label = 'Validation Accuracy')\n",
    "plt.title('Training and Validation Accuracy')\n",
    "plt.xlabel('Epochs')\n",
    "plt.ylabel('Accuracy')\n",
    "plt.legend(loc='lower right')\n",
    "plt.show()\n",
    "\n"
   ]
  },
  {
   "cell_type": "code",
   "execution_count": 44,
   "id": "62c53151",
   "metadata": {},
   "outputs": [
    {
     "name": "stdout",
     "output_type": "stream",
     "text": [
      "51/51 [==============================] - 0s 1ms/step\n"
     ]
    },
    {
     "data": {
      "image/png": "[encoded data removed]",
      "text/plain": [
       "<Figure size 640x480 with 2 Axes>"
      ]
     },
     "metadata": {},
     "output_type": "display_data"
    },
    {
     "name": "stdout",
     "output_type": "stream",
     "text": [
      "F1 Score: 1.0\n",
      "Accuracy: 1.0\n",
      "Precision: 1.0\n",
      "Recall: 1.0\n"
     ]
    }
   ],
   "source": [
    "# Build confusion matrix to evaluate the model performance on the test set\n",
    "from sklearn.metrics import ConfusionMatrixDisplay as cmd \n",
    "from sklearn.metrics import f1_score, accuracy_score, precision_score, recall_score\n",
    "\n",
    "# Make predictions on the test set and create confusion matrix\n",
    "y_pred = model.predict(X_test_encoded) > 0.5\n",
    "labels = ['Edible', 'Poisonous']\n",
    "cmd.from_predictions(y_test_encoded, y_pred, cmap='Blues', display_labels=labels)\n",
    "plt.show()\n",
    "\n",
    "# Calculate and print evaluation metrics\n",
    "print(\"F1 Score:\", f1_score(y_test_encoded, y_pred))\n",
    "print(\"Accuracy:\", accuracy_score(y_test_encoded, y_pred))\n",
    "print(\"Precision:\", precision_score(y_test_encoded, y_pred))\n",
    "print(\"Recall:\", recall_score(y_test_encoded, y_pred))\n"
   ]
  },
  {
   "cell_type": "code",
   "execution_count": 58,
   "id": "4e4a575e",
   "metadata": {},
   "outputs": [
    {
     "data": {
      "image/png": "[encoded data removed]",
      "text/plain": [
       "<Figure size 640x480 with 2 Axes>"
      ]
     },
     "metadata": {},
     "output_type": "display_data"
    },
    {
     "name": "stdout",
     "output_type": "stream",
     "text": [
      "F1 Score (RF): 1.0\n",
      "Accuracy (RF): 1.0\n",
      "Precision (RF): 1.0\n",
      "Recall (RF): 1.0\n"
     ]
    }
   ],
   "source": [
    "# Random forest classifier for comparison\n",
    "from sklearn.ensemble import RandomForestClassifier\n",
    "\n",
    "# Instantiate the RandomForestClassifier\n",
    "rf_model = RandomForestClassifier(n_estimators=100, random_state=42)\n",
    "\n",
    "# Fit the model on the training data\n",
    "rf_model.fit(X_train_encoded, y_train_encoded)\n",
    "\n",
    "# Make predictions on the test set\n",
    "y_pred_rf = rf_model.predict(X_test_encoded)\n",
    "\n",
    "# Create confusion matrix for Random Forest model\n",
    "cmd.from_predictions(y_test_encoded, y_pred_rf, cmap='Blues', display_labels=labels)\n",
    "plt.show()\n",
    "\n",
    "# Calculate and print evaluation metrics for Random Forest model\n",
    "print(\"F1 Score (RF):\", f1_score(y_test_encoded, y_pred_rf))\n",
    "print(\"Accuracy (RF):\", accuracy_score(y_test_encoded, y_pred_rf))\n",
    "print(\"Precision (RF):\", precision_score(y_test_encoded, y_pred_rf))\n",
    "print(\"Recall (RF):\", recall_score(y_test_encoded, y_pred_rf))"
   ]
  },
  {
   "cell_type": "code",
   "execution_count": 59,
   "id": "1e15a6d3",
   "metadata": {},
   "outputs": [
    {
     "name": "stdout",
     "output_type": "stream",
     "text": [
      "\n",
      "Comparison of Model Performance:\n",
      "Neural Network - F1 Score: 1.0000, Accuracy: 1.0000, Precision: 1.0000, Recall: 1.0000\n",
      "Random Forest - F1 Score: 1.0000, Accuracy: 1.0000, Precision: 1.0000, Recall: 1.0000\n"
     ]
    }
   ],
   "source": [
    "# compare the performance of the two models\n",
    "print(\"\\nComparison of Model Performance:\")\n",
    "print(f\"Neural Network - F1 Score: {f1_score(y_test_encoded, y_pred):.4f}, Accuracy: {accuracy_score(y_test_encoded, y_pred):.4f}, Precision: {precision_score(y_test_encoded, y_pred):.4f}, Recall: {recall_score(y_test_encoded, y_pred):.4f}\")\n",
    "print(f\"Random Forest - F1 Score: {f1_score(y_test_encoded, y_pred_rf):.4f}, Accuracy: {accuracy_score(y_test_encoded, y_pred_rf):.4f}, Precision: {precision_score(y_test_encoded, y_pred_rf):.4f}, Recall: {recall_score(y_test_encoded, y_pred_rf):.4f}\")\n",
    "\n"
   ]
  },
  {
   "cell_type": "markdown",
   "id": "ca24151f",
   "metadata": {},
   "source": [
    "#### Save Neural Network Model as .h5"
   ]
  },
  {
   "cell_type": "code",
   "execution_count": 48,
   "id": "e7c01fb5",
   "metadata": {},
   "outputs": [],
   "source": [
    "# Save model \n",
    "model.save(\"mushroom_pred_model.h5\")"
   ]
  }
 ],
 "metadata": {
  "kernelspec": {
   "display_name": "dtsc680",
   "language": "python",
   "name": "python3"
  },
  "language_info": {
   "codemirror_mode": {
    "name": "ipython",
    "version": 3
   },
   "file_extension": ".py",
   "mimetype": "text/x-python",
   "name": "python",
   "nbconvert_exporter": "python",
   "pygments_lexer": "ipython3",
   "version": "3.8.20"
  }
 },
 "nbformat": 4,
 "nbformat_minor": 5
}
